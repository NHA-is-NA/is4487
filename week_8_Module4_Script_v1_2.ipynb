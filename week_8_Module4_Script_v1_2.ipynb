{
  "nbformat": 4,
  "nbformat_minor": 0,
  "metadata": {
    "colab": {
      "provenance": []
    },
    "kernelspec": {
      "name": "python3",
      "display_name": "Python 3"
    },
    "language_info": {
      "name": "python"
    }
  },
  "cells": [
    {
      "cell_type": "markdown",
      "metadata": {
        "id": "p_Yu45OYdj3Y"
      },
      "source": [
        "# IS 4487 Module 4 Script\n",
        "\n",
        "## Objectives\n",
        "\n",
        "*   Deal with nulls\n",
        "*   Standardize/transform attributes\n",
        "*   Convert attributes to factors (categories)\n",
        "*   Encode attributes"
      ]
    },
    {
      "cell_type": "code",
      "source": [
        "from google.colab import drive\n",
        "drive.mount('/content/drive')"
      ],
      "metadata": {
        "colab": {
          "base_uri": "https://localhost:8080/"
        },
        "id": "6YqnHgDsZ-A_",
        "outputId": "77107c82-9d0f-41d1-c0e1-2f9ae40ceecc"
      },
      "execution_count": 1,
      "outputs": [
        {
          "output_type": "stream",
          "name": "stdout",
          "text": [
            "Mounted at /content/drive\n"
          ]
        }
      ]
    },
    {
      "cell_type": "markdown",
      "metadata": {
        "id": "UE93RwXhgiJS"
      },
      "source": [
        "##Load Libraries\n",
        "\n",
        "In this class we will be using \n",
        "- Pandas\n",
        "- Scikitlearn\n",
        "- Matplotlib\n"
      ]
    },
    {
      "cell_type": "code",
      "metadata": {
        "id": "JYRZY5n0gfNe"
      },
      "source": [
        "import pandas as pd\n",
        "import matplotlib.pyplot as plt\n",
        "import numpy as np\n",
        "\n",
        "from sklearn.tree import DecisionTreeClassifier, export_graphviz # Import Decision Tree Classifier\n",
        "from sklearn.model_selection import train_test_split # Import train_test_split function\n",
        "from sklearn import metrics #Import scikit-learn metrics module for accuracy calculation\n",
        "from sklearn import tree\n"
      ],
      "execution_count": 37,
      "outputs": []
    },
    {
      "cell_type": "markdown",
      "metadata": {
        "id": "bREaXo8jfu-O"
      },
      "source": [
        "## Getting data into Pandas\n",
        "\n",
        "In this case we will load data from the statsmodels.org library\n",
        "\n",
        "See the Canvas assignments and lectures for a description of the Megatelco data\n",
        "\n",
        "**Note:** you will need to enter a code supplied by Google in the next step. \n"
      ]
    },
    {
      "cell_type": "code",
      "metadata": {
        "id": "6_FwprxVgR0e",
        "colab": {
          "base_uri": "https://localhost:8080/"
        },
        "outputId": "8cded8f3-c80b-44e8-fa2a-bdb15ff8dd00"
      },
      "source": [
        "from google.colab import drive \n",
        "drive.mount('/content/gdrive', force_remount=True)\n",
        "\n",
        "df = pd.read_csv (r'/retail_dataset.csv')"
      ],
      "execution_count": 3,
      "outputs": [
        {
          "output_type": "stream",
          "name": "stdout",
          "text": [
            "Mounted at /content/gdrive\n"
          ]
        }
      ]
    },
    {
      "cell_type": "code",
      "metadata": {
        "id": "gSvao0dlhlNn",
        "colab": {
          "base_uri": "https://localhost:8080/",
          "height": 339
        },
        "outputId": "da014472-d58e-4f5f-9e38-bc0be80cd77a"
      },
      "source": [
        "#look at the top rows\n",
        "df.head() "
      ],
      "execution_count": 4,
      "outputs": [
        {
          "output_type": "execute_result",
          "data": {
            "text/plain": [
              "   customer_id      customer_name        address_line_1        city  \\\n",
              "0           67      Gordy Matteau   59 Northland Circle  Wilmington   \n",
              "1          201     Cort Paskerful       769 Buell Drive  Huntsville   \n",
              "2           45    Willetta Lumley     41 Ridgeway Alley      Irvine   \n",
              "3          106   Alison Batterton         489 Erie Hill    Richmond   \n",
              "4          357  Martelle Paxeford  451 Manitowish Place    Richmond   \n",
              "\n",
              "              state_province  postal_code  order_id  order_date  \\\n",
              "0  DE                             19805.0      1001  2020-01-11   \n",
              "1  AL                             35810.0      1002  2019-11-22   \n",
              "2  CA                             92612.0      1003  2019-09-17   \n",
              "3  VA                             23293.0      1004  2019-12-09   \n",
              "4  VA                             23293.0      1005  2019-06-08   \n",
              "\n",
              "   customer_id.1  order_id.1  product_id  quantity  product_id.1  \\\n",
              "0             67        1001         106       3.0           106   \n",
              "1            201        1002         104       2.0           104   \n",
              "2             45        1003         107       5.0           107   \n",
              "3            106        1004         106       8.0           106   \n",
              "4            357        1005         107       7.0           107   \n",
              "\n",
              "        product_name product_price total_amount order_year_month order_month  \n",
              "0  Great value Juice         $1.99        $5.97          2020-01   January    \n",
              "1               Desk        $85.98      $171.96          2019-11   November   \n",
              "2     Dove deodorant         $3.99       $19.95          2019-09   September  \n",
              "3  Great value Juice         $1.99       $15.92          2019-12   December   \n",
              "4     Dove deodorant         $3.99       $27.93          2019-06   June       "
            ],
            "text/html": [
              "\n",
              "  <div id=\"df-667d441d-5c56-4af0-91bb-8b6282812f43\">\n",
              "    <div class=\"colab-df-container\">\n",
              "      <div>\n",
              "<style scoped>\n",
              "    .dataframe tbody tr th:only-of-type {\n",
              "        vertical-align: middle;\n",
              "    }\n",
              "\n",
              "    .dataframe tbody tr th {\n",
              "        vertical-align: top;\n",
              "    }\n",
              "\n",
              "    .dataframe thead th {\n",
              "        text-align: right;\n",
              "    }\n",
              "</style>\n",
              "<table border=\"1\" class=\"dataframe\">\n",
              "  <thead>\n",
              "    <tr style=\"text-align: right;\">\n",
              "      <th></th>\n",
              "      <th>customer_id</th>\n",
              "      <th>customer_name</th>\n",
              "      <th>address_line_1</th>\n",
              "      <th>city</th>\n",
              "      <th>state_province</th>\n",
              "      <th>postal_code</th>\n",
              "      <th>order_id</th>\n",
              "      <th>order_date</th>\n",
              "      <th>customer_id.1</th>\n",
              "      <th>order_id.1</th>\n",
              "      <th>product_id</th>\n",
              "      <th>quantity</th>\n",
              "      <th>product_id.1</th>\n",
              "      <th>product_name</th>\n",
              "      <th>product_price</th>\n",
              "      <th>total_amount</th>\n",
              "      <th>order_year_month</th>\n",
              "      <th>order_month</th>\n",
              "    </tr>\n",
              "  </thead>\n",
              "  <tbody>\n",
              "    <tr>\n",
              "      <th>0</th>\n",
              "      <td>67</td>\n",
              "      <td>Gordy Matteau</td>\n",
              "      <td>59 Northland Circle</td>\n",
              "      <td>Wilmington</td>\n",
              "      <td>DE</td>\n",
              "      <td>19805.0</td>\n",
              "      <td>1001</td>\n",
              "      <td>2020-01-11</td>\n",
              "      <td>67</td>\n",
              "      <td>1001</td>\n",
              "      <td>106</td>\n",
              "      <td>3.0</td>\n",
              "      <td>106</td>\n",
              "      <td>Great value Juice</td>\n",
              "      <td>$1.99</td>\n",
              "      <td>$5.97</td>\n",
              "      <td>2020-01</td>\n",
              "      <td>January</td>\n",
              "    </tr>\n",
              "    <tr>\n",
              "      <th>1</th>\n",
              "      <td>201</td>\n",
              "      <td>Cort Paskerful</td>\n",
              "      <td>769 Buell Drive</td>\n",
              "      <td>Huntsville</td>\n",
              "      <td>AL</td>\n",
              "      <td>35810.0</td>\n",
              "      <td>1002</td>\n",
              "      <td>2019-11-22</td>\n",
              "      <td>201</td>\n",
              "      <td>1002</td>\n",
              "      <td>104</td>\n",
              "      <td>2.0</td>\n",
              "      <td>104</td>\n",
              "      <td>Desk</td>\n",
              "      <td>$85.98</td>\n",
              "      <td>$171.96</td>\n",
              "      <td>2019-11</td>\n",
              "      <td>November</td>\n",
              "    </tr>\n",
              "    <tr>\n",
              "      <th>2</th>\n",
              "      <td>45</td>\n",
              "      <td>Willetta Lumley</td>\n",
              "      <td>41 Ridgeway Alley</td>\n",
              "      <td>Irvine</td>\n",
              "      <td>CA</td>\n",
              "      <td>92612.0</td>\n",
              "      <td>1003</td>\n",
              "      <td>2019-09-17</td>\n",
              "      <td>45</td>\n",
              "      <td>1003</td>\n",
              "      <td>107</td>\n",
              "      <td>5.0</td>\n",
              "      <td>107</td>\n",
              "      <td>Dove deodorant</td>\n",
              "      <td>$3.99</td>\n",
              "      <td>$19.95</td>\n",
              "      <td>2019-09</td>\n",
              "      <td>September</td>\n",
              "    </tr>\n",
              "    <tr>\n",
              "      <th>3</th>\n",
              "      <td>106</td>\n",
              "      <td>Alison Batterton</td>\n",
              "      <td>489 Erie Hill</td>\n",
              "      <td>Richmond</td>\n",
              "      <td>VA</td>\n",
              "      <td>23293.0</td>\n",
              "      <td>1004</td>\n",
              "      <td>2019-12-09</td>\n",
              "      <td>106</td>\n",
              "      <td>1004</td>\n",
              "      <td>106</td>\n",
              "      <td>8.0</td>\n",
              "      <td>106</td>\n",
              "      <td>Great value Juice</td>\n",
              "      <td>$1.99</td>\n",
              "      <td>$15.92</td>\n",
              "      <td>2019-12</td>\n",
              "      <td>December</td>\n",
              "    </tr>\n",
              "    <tr>\n",
              "      <th>4</th>\n",
              "      <td>357</td>\n",
              "      <td>Martelle Paxeford</td>\n",
              "      <td>451 Manitowish Place</td>\n",
              "      <td>Richmond</td>\n",
              "      <td>VA</td>\n",
              "      <td>23293.0</td>\n",
              "      <td>1005</td>\n",
              "      <td>2019-06-08</td>\n",
              "      <td>357</td>\n",
              "      <td>1005</td>\n",
              "      <td>107</td>\n",
              "      <td>7.0</td>\n",
              "      <td>107</td>\n",
              "      <td>Dove deodorant</td>\n",
              "      <td>$3.99</td>\n",
              "      <td>$27.93</td>\n",
              "      <td>2019-06</td>\n",
              "      <td>June</td>\n",
              "    </tr>\n",
              "  </tbody>\n",
              "</table>\n",
              "</div>\n",
              "      <button class=\"colab-df-convert\" onclick=\"convertToInteractive('df-667d441d-5c56-4af0-91bb-8b6282812f43')\"\n",
              "              title=\"Convert this dataframe to an interactive table.\"\n",
              "              style=\"display:none;\">\n",
              "        \n",
              "  <svg xmlns=\"http://www.w3.org/2000/svg\" height=\"24px\"viewBox=\"0 0 24 24\"\n",
              "       width=\"24px\">\n",
              "    <path d=\"M0 0h24v24H0V0z\" fill=\"none\"/>\n",
              "    <path d=\"M18.56 5.44l.94 2.06.94-2.06 2.06-.94-2.06-.94-.94-2.06-.94 2.06-2.06.94zm-11 1L8.5 8.5l.94-2.06 2.06-.94-2.06-.94L8.5 2.5l-.94 2.06-2.06.94zm10 10l.94 2.06.94-2.06 2.06-.94-2.06-.94-.94-2.06-.94 2.06-2.06.94z\"/><path d=\"M17.41 7.96l-1.37-1.37c-.4-.4-.92-.59-1.43-.59-.52 0-1.04.2-1.43.59L10.3 9.45l-7.72 7.72c-.78.78-.78 2.05 0 2.83L4 21.41c.39.39.9.59 1.41.59.51 0 1.02-.2 1.41-.59l7.78-7.78 2.81-2.81c.8-.78.8-2.07 0-2.86zM5.41 20L4 18.59l7.72-7.72 1.47 1.35L5.41 20z\"/>\n",
              "  </svg>\n",
              "      </button>\n",
              "      \n",
              "  <style>\n",
              "    .colab-df-container {\n",
              "      display:flex;\n",
              "      flex-wrap:wrap;\n",
              "      gap: 12px;\n",
              "    }\n",
              "\n",
              "    .colab-df-convert {\n",
              "      background-color: #E8F0FE;\n",
              "      border: none;\n",
              "      border-radius: 50%;\n",
              "      cursor: pointer;\n",
              "      display: none;\n",
              "      fill: #1967D2;\n",
              "      height: 32px;\n",
              "      padding: 0 0 0 0;\n",
              "      width: 32px;\n",
              "    }\n",
              "\n",
              "    .colab-df-convert:hover {\n",
              "      background-color: #E2EBFA;\n",
              "      box-shadow: 0px 1px 2px rgba(60, 64, 67, 0.3), 0px 1px 3px 1px rgba(60, 64, 67, 0.15);\n",
              "      fill: #174EA6;\n",
              "    }\n",
              "\n",
              "    [theme=dark] .colab-df-convert {\n",
              "      background-color: #3B4455;\n",
              "      fill: #D2E3FC;\n",
              "    }\n",
              "\n",
              "    [theme=dark] .colab-df-convert:hover {\n",
              "      background-color: #434B5C;\n",
              "      box-shadow: 0px 1px 3px 1px rgba(0, 0, 0, 0.15);\n",
              "      filter: drop-shadow(0px 1px 2px rgba(0, 0, 0, 0.3));\n",
              "      fill: #FFFFFF;\n",
              "    }\n",
              "  </style>\n",
              "\n",
              "      <script>\n",
              "        const buttonEl =\n",
              "          document.querySelector('#df-667d441d-5c56-4af0-91bb-8b6282812f43 button.colab-df-convert');\n",
              "        buttonEl.style.display =\n",
              "          google.colab.kernel.accessAllowed ? 'block' : 'none';\n",
              "\n",
              "        async function convertToInteractive(key) {\n",
              "          const element = document.querySelector('#df-667d441d-5c56-4af0-91bb-8b6282812f43');\n",
              "          const dataTable =\n",
              "            await google.colab.kernel.invokeFunction('convertToInteractive',\n",
              "                                                     [key], {});\n",
              "          if (!dataTable) return;\n",
              "\n",
              "          const docLinkHtml = 'Like what you see? Visit the ' +\n",
              "            '<a target=\"_blank\" href=https://colab.research.google.com/notebooks/data_table.ipynb>data table notebook</a>'\n",
              "            + ' to learn more about interactive tables.';\n",
              "          element.innerHTML = '';\n",
              "          dataTable['output_type'] = 'display_data';\n",
              "          await google.colab.output.renderOutput(dataTable, element);\n",
              "          const docLink = document.createElement('div');\n",
              "          docLink.innerHTML = docLinkHtml;\n",
              "          element.appendChild(docLink);\n",
              "        }\n",
              "      </script>\n",
              "    </div>\n",
              "  </div>\n",
              "  "
            ]
          },
          "metadata": {},
          "execution_count": 4
        }
      ]
    },
    {
      "cell_type": "code",
      "metadata": {
        "id": "AK7y336xJ3-6",
        "colab": {
          "base_uri": "https://localhost:8080/"
        },
        "outputId": "3411b77d-7de4-4211-f779-4a8f9eba73a0"
      },
      "source": [
        "#look at the datatypes\n",
        "df.info()"
      ],
      "execution_count": 5,
      "outputs": [
        {
          "output_type": "stream",
          "name": "stdout",
          "text": [
            "<class 'pandas.core.frame.DataFrame'>\n",
            "RangeIndex: 9569 entries, 0 to 9568\n",
            "Data columns (total 18 columns):\n",
            " #   Column            Non-Null Count  Dtype  \n",
            "---  ------            --------------  -----  \n",
            " 0   customer_id       9569 non-null   int64  \n",
            " 1   customer_name     9569 non-null   object \n",
            " 2   address_line_1    9448 non-null   object \n",
            " 3   city              9516 non-null   object \n",
            " 4   state_province    9569 non-null   object \n",
            " 5   postal_code       9416 non-null   float64\n",
            " 6   order_id          9569 non-null   int64  \n",
            " 7   order_date        9312 non-null   object \n",
            " 8   customer_id.1     9569 non-null   int64  \n",
            " 9   order_id.1        9569 non-null   int64  \n",
            " 10  product_id        9569 non-null   int64  \n",
            " 11  quantity          9513 non-null   float64\n",
            " 12  product_id.1      9569 non-null   int64  \n",
            " 13  product_name      9569 non-null   object \n",
            " 14  product_price     9569 non-null   object \n",
            " 15  total_amount      9513 non-null   object \n",
            " 16  order_year_month  9312 non-null   object \n",
            " 17  order_month       9312 non-null   object \n",
            "dtypes: float64(2), int64(6), object(10)\n",
            "memory usage: 1.3+ MB\n"
          ]
        }
      ]
    },
    {
      "cell_type": "code",
      "metadata": {
        "id": "udYgkb6I3SJo",
        "colab": {
          "base_uri": "https://localhost:8080/",
          "height": 300
        },
        "outputId": "196cdca5-9e65-4b36-ccde-e6b08e528651"
      },
      "source": [
        "#describe the data before cleaning it\n",
        "df.describe()"
      ],
      "execution_count": 6,
      "outputs": [
        {
          "output_type": "execute_result",
          "data": {
            "text/plain": [
              "       customer_id   postal_code     order_id  customer_id.1   order_id.1  \\\n",
              "count  9569.000000   9416.000000  9569.000000    9569.000000  9569.000000   \n",
              "mean    282.910962  52225.007116  5107.539450     282.910962  5107.539450   \n",
              "std     199.763947  29619.544418  2043.449403     199.763947  2043.449403   \n",
              "min       1.000000   1105.000000  1001.000000       1.000000  1001.000000   \n",
              "25%     127.000000  27409.000000  3393.000000     127.000000  3393.000000   \n",
              "50%     253.000000  48295.000000  5577.000000     253.000000  5577.000000   \n",
              "75%     376.000000  79923.000000  6829.000000     376.000000  6829.000000   \n",
              "max     800.000000  99812.000000  8147.000000     800.000000  8147.000000   \n",
              "\n",
              "        product_id     quantity  product_id.1  \n",
              "count  9569.000000  9513.000000   9569.000000  \n",
              "mean    106.736650     3.453380    106.736650  \n",
              "std       3.694805     4.393894      3.694805  \n",
              "min     101.000000     1.000000    101.000000  \n",
              "25%     104.000000     1.000000    104.000000  \n",
              "50%     107.000000     1.000000    107.000000  \n",
              "75%     110.000000     4.000000    110.000000  \n",
              "max     114.000000    20.000000    114.000000  "
            ],
            "text/html": [
              "\n",
              "  <div id=\"df-67179ae9-2544-48dd-a118-003e1a4c8505\">\n",
              "    <div class=\"colab-df-container\">\n",
              "      <div>\n",
              "<style scoped>\n",
              "    .dataframe tbody tr th:only-of-type {\n",
              "        vertical-align: middle;\n",
              "    }\n",
              "\n",
              "    .dataframe tbody tr th {\n",
              "        vertical-align: top;\n",
              "    }\n",
              "\n",
              "    .dataframe thead th {\n",
              "        text-align: right;\n",
              "    }\n",
              "</style>\n",
              "<table border=\"1\" class=\"dataframe\">\n",
              "  <thead>\n",
              "    <tr style=\"text-align: right;\">\n",
              "      <th></th>\n",
              "      <th>customer_id</th>\n",
              "      <th>postal_code</th>\n",
              "      <th>order_id</th>\n",
              "      <th>customer_id.1</th>\n",
              "      <th>order_id.1</th>\n",
              "      <th>product_id</th>\n",
              "      <th>quantity</th>\n",
              "      <th>product_id.1</th>\n",
              "    </tr>\n",
              "  </thead>\n",
              "  <tbody>\n",
              "    <tr>\n",
              "      <th>count</th>\n",
              "      <td>9569.000000</td>\n",
              "      <td>9416.000000</td>\n",
              "      <td>9569.000000</td>\n",
              "      <td>9569.000000</td>\n",
              "      <td>9569.000000</td>\n",
              "      <td>9569.000000</td>\n",
              "      <td>9513.000000</td>\n",
              "      <td>9569.000000</td>\n",
              "    </tr>\n",
              "    <tr>\n",
              "      <th>mean</th>\n",
              "      <td>282.910962</td>\n",
              "      <td>52225.007116</td>\n",
              "      <td>5107.539450</td>\n",
              "      <td>282.910962</td>\n",
              "      <td>5107.539450</td>\n",
              "      <td>106.736650</td>\n",
              "      <td>3.453380</td>\n",
              "      <td>106.736650</td>\n",
              "    </tr>\n",
              "    <tr>\n",
              "      <th>std</th>\n",
              "      <td>199.763947</td>\n",
              "      <td>29619.544418</td>\n",
              "      <td>2043.449403</td>\n",
              "      <td>199.763947</td>\n",
              "      <td>2043.449403</td>\n",
              "      <td>3.694805</td>\n",
              "      <td>4.393894</td>\n",
              "      <td>3.694805</td>\n",
              "    </tr>\n",
              "    <tr>\n",
              "      <th>min</th>\n",
              "      <td>1.000000</td>\n",
              "      <td>1105.000000</td>\n",
              "      <td>1001.000000</td>\n",
              "      <td>1.000000</td>\n",
              "      <td>1001.000000</td>\n",
              "      <td>101.000000</td>\n",
              "      <td>1.000000</td>\n",
              "      <td>101.000000</td>\n",
              "    </tr>\n",
              "    <tr>\n",
              "      <th>25%</th>\n",
              "      <td>127.000000</td>\n",
              "      <td>27409.000000</td>\n",
              "      <td>3393.000000</td>\n",
              "      <td>127.000000</td>\n",
              "      <td>3393.000000</td>\n",
              "      <td>104.000000</td>\n",
              "      <td>1.000000</td>\n",
              "      <td>104.000000</td>\n",
              "    </tr>\n",
              "    <tr>\n",
              "      <th>50%</th>\n",
              "      <td>253.000000</td>\n",
              "      <td>48295.000000</td>\n",
              "      <td>5577.000000</td>\n",
              "      <td>253.000000</td>\n",
              "      <td>5577.000000</td>\n",
              "      <td>107.000000</td>\n",
              "      <td>1.000000</td>\n",
              "      <td>107.000000</td>\n",
              "    </tr>\n",
              "    <tr>\n",
              "      <th>75%</th>\n",
              "      <td>376.000000</td>\n",
              "      <td>79923.000000</td>\n",
              "      <td>6829.000000</td>\n",
              "      <td>376.000000</td>\n",
              "      <td>6829.000000</td>\n",
              "      <td>110.000000</td>\n",
              "      <td>4.000000</td>\n",
              "      <td>110.000000</td>\n",
              "    </tr>\n",
              "    <tr>\n",
              "      <th>max</th>\n",
              "      <td>800.000000</td>\n",
              "      <td>99812.000000</td>\n",
              "      <td>8147.000000</td>\n",
              "      <td>800.000000</td>\n",
              "      <td>8147.000000</td>\n",
              "      <td>114.000000</td>\n",
              "      <td>20.000000</td>\n",
              "      <td>114.000000</td>\n",
              "    </tr>\n",
              "  </tbody>\n",
              "</table>\n",
              "</div>\n",
              "      <button class=\"colab-df-convert\" onclick=\"convertToInteractive('df-67179ae9-2544-48dd-a118-003e1a4c8505')\"\n",
              "              title=\"Convert this dataframe to an interactive table.\"\n",
              "              style=\"display:none;\">\n",
              "        \n",
              "  <svg xmlns=\"http://www.w3.org/2000/svg\" height=\"24px\"viewBox=\"0 0 24 24\"\n",
              "       width=\"24px\">\n",
              "    <path d=\"M0 0h24v24H0V0z\" fill=\"none\"/>\n",
              "    <path d=\"M18.56 5.44l.94 2.06.94-2.06 2.06-.94-2.06-.94-.94-2.06-.94 2.06-2.06.94zm-11 1L8.5 8.5l.94-2.06 2.06-.94-2.06-.94L8.5 2.5l-.94 2.06-2.06.94zm10 10l.94 2.06.94-2.06 2.06-.94-2.06-.94-.94-2.06-.94 2.06-2.06.94z\"/><path d=\"M17.41 7.96l-1.37-1.37c-.4-.4-.92-.59-1.43-.59-.52 0-1.04.2-1.43.59L10.3 9.45l-7.72 7.72c-.78.78-.78 2.05 0 2.83L4 21.41c.39.39.9.59 1.41.59.51 0 1.02-.2 1.41-.59l7.78-7.78 2.81-2.81c.8-.78.8-2.07 0-2.86zM5.41 20L4 18.59l7.72-7.72 1.47 1.35L5.41 20z\"/>\n",
              "  </svg>\n",
              "      </button>\n",
              "      \n",
              "  <style>\n",
              "    .colab-df-container {\n",
              "      display:flex;\n",
              "      flex-wrap:wrap;\n",
              "      gap: 12px;\n",
              "    }\n",
              "\n",
              "    .colab-df-convert {\n",
              "      background-color: #E8F0FE;\n",
              "      border: none;\n",
              "      border-radius: 50%;\n",
              "      cursor: pointer;\n",
              "      display: none;\n",
              "      fill: #1967D2;\n",
              "      height: 32px;\n",
              "      padding: 0 0 0 0;\n",
              "      width: 32px;\n",
              "    }\n",
              "\n",
              "    .colab-df-convert:hover {\n",
              "      background-color: #E2EBFA;\n",
              "      box-shadow: 0px 1px 2px rgba(60, 64, 67, 0.3), 0px 1px 3px 1px rgba(60, 64, 67, 0.15);\n",
              "      fill: #174EA6;\n",
              "    }\n",
              "\n",
              "    [theme=dark] .colab-df-convert {\n",
              "      background-color: #3B4455;\n",
              "      fill: #D2E3FC;\n",
              "    }\n",
              "\n",
              "    [theme=dark] .colab-df-convert:hover {\n",
              "      background-color: #434B5C;\n",
              "      box-shadow: 0px 1px 3px 1px rgba(0, 0, 0, 0.15);\n",
              "      filter: drop-shadow(0px 1px 2px rgba(0, 0, 0, 0.3));\n",
              "      fill: #FFFFFF;\n",
              "    }\n",
              "  </style>\n",
              "\n",
              "      <script>\n",
              "        const buttonEl =\n",
              "          document.querySelector('#df-67179ae9-2544-48dd-a118-003e1a4c8505 button.colab-df-convert');\n",
              "        buttonEl.style.display =\n",
              "          google.colab.kernel.accessAllowed ? 'block' : 'none';\n",
              "\n",
              "        async function convertToInteractive(key) {\n",
              "          const element = document.querySelector('#df-67179ae9-2544-48dd-a118-003e1a4c8505');\n",
              "          const dataTable =\n",
              "            await google.colab.kernel.invokeFunction('convertToInteractive',\n",
              "                                                     [key], {});\n",
              "          if (!dataTable) return;\n",
              "\n",
              "          const docLinkHtml = 'Like what you see? Visit the ' +\n",
              "            '<a target=\"_blank\" href=https://colab.research.google.com/notebooks/data_table.ipynb>data table notebook</a>'\n",
              "            + ' to learn more about interactive tables.';\n",
              "          element.innerHTML = '';\n",
              "          dataTable['output_type'] = 'display_data';\n",
              "          await google.colab.output.renderOutput(dataTable, element);\n",
              "          const docLink = document.createElement('div');\n",
              "          docLink.innerHTML = docLinkHtml;\n",
              "          element.appendChild(docLink);\n",
              "        }\n",
              "      </script>\n",
              "    </div>\n",
              "  </div>\n",
              "  "
            ]
          },
          "metadata": {},
          "execution_count": 6
        }
      ]
    },
    {
      "cell_type": "code",
      "source": [
        "df_clean = df"
      ],
      "metadata": {
        "id": "vcO37fVnbP_e"
      },
      "execution_count": 7,
      "outputs": []
    },
    {
      "cell_type": "code",
      "source": [
        "df_clean.info()"
      ],
      "metadata": {
        "colab": {
          "base_uri": "https://localhost:8080/"
        },
        "id": "MXNgdI2AbaEI",
        "outputId": "c4b697ef-45dd-47e5-8b1c-9c6f13428dd3"
      },
      "execution_count": 25,
      "outputs": [
        {
          "output_type": "stream",
          "name": "stdout",
          "text": [
            "<class 'pandas.core.frame.DataFrame'>\n",
            "RangeIndex: 9569 entries, 0 to 9568\n",
            "Data columns (total 18 columns):\n",
            " #   Column            Non-Null Count  Dtype  \n",
            "---  ------            --------------  -----  \n",
            " 0   customer_id       9569 non-null   int64  \n",
            " 1   customer_name     9569 non-null   object \n",
            " 2   address_line_1    9448 non-null   object \n",
            " 3   city              9516 non-null   object \n",
            " 4   state_province    9569 non-null   object \n",
            " 5   postal_code       9416 non-null   float64\n",
            " 6   order_id          9569 non-null   int64  \n",
            " 7   order_date        9312 non-null   object \n",
            " 8   customer_id.1     9569 non-null   int64  \n",
            " 9   order_id.1        9569 non-null   int64  \n",
            " 10  product_id        9569 non-null   int64  \n",
            " 11  quantity          9513 non-null   float64\n",
            " 12  product_id.1      9569 non-null   int64  \n",
            " 13  product_name      9569 non-null   object \n",
            " 14  product_price     9569 non-null   object \n",
            " 15  total_amount      9513 non-null   object \n",
            " 16  order_year_month  9312 non-null   object \n",
            " 17  order_month       9312 non-null   object \n",
            "dtypes: float64(2), int64(6), object(10)\n",
            "memory usage: 1.3+ MB\n"
          ]
        }
      ]
    },
    {
      "cell_type": "code",
      "source": [
        "df_clean.count().notnull()"
      ],
      "metadata": {
        "colab": {
          "base_uri": "https://localhost:8080/"
        },
        "id": "NkE_fj8kcy_P",
        "outputId": "89501399-1c87-4736-c35c-b149584bd3f3"
      },
      "execution_count": 29,
      "outputs": [
        {
          "output_type": "execute_result",
          "data": {
            "text/plain": [
              "customer_id         True\n",
              "customer_name       True\n",
              "address_line_1      True\n",
              "city                True\n",
              "state_province      True\n",
              "postal_code         True\n",
              "order_id            True\n",
              "order_date          True\n",
              "customer_id.1       True\n",
              "order_id.1          True\n",
              "product_id          True\n",
              "quantity            True\n",
              "product_id.1        True\n",
              "product_name        True\n",
              "product_price       True\n",
              "total_amount        True\n",
              "order_year_month    True\n",
              "order_month         True\n",
              "dtype: bool"
            ]
          },
          "metadata": {},
          "execution_count": 29
        }
      ]
    },
    {
      "cell_type": "code",
      "source": [
        "#Plot the total number of orders and revenue by state"
      ],
      "metadata": {
        "id": "7u0njgjtdMND"
      },
      "execution_count": 28,
      "outputs": []
    },
    {
      "cell_type": "code",
      "source": [
        "df_clean.groupby('state_province')['order_id'].count().plot()"
      ],
      "metadata": {
        "colab": {
          "base_uri": "https://localhost:8080/",
          "height": 297
        },
        "id": "HEqejGJWeT1x",
        "outputId": "1982e266-c6e3-4909-fad4-a96533c1031e"
      },
      "execution_count": 35,
      "outputs": [
        {
          "output_type": "execute_result",
          "data": {
            "text/plain": [
              "<AxesSubplot:xlabel='state_province'>"
            ]
          },
          "metadata": {},
          "execution_count": 35
        },
        {
          "output_type": "display_data",
          "data": {
            "text/plain": [
              "<Figure size 432x288 with 1 Axes>"
            ],
            "image/png": "[encoded data removed]"
          },
          "metadata": {
            "needs_background": "light"
          }
        }
      ]
    },
    {
      "cell_type": "code",
      "source": [
        "id_count_per_state = df_clean.groupby('state_province')['order_id'].count()\n",
        "\n",
        "id_count_per_state.plot(kind = 'bar', figsize = (15,15))"
      ],
      "metadata": {
        "colab": {
          "base_uri": "https://localhost:8080/",
          "height": 1000
        },
        "id": "h7AclrU1fLRS",
        "outputId": "a508726d-507c-4ff2-89d7-ca163086d25f"
      },
      "execution_count": 74,
      "outputs": [
        {
          "output_type": "execute_result",
          "data": {
            "text/plain": [
              "<AxesSubplot:xlabel='state_province'>"
            ]
          },
          "metadata": {},
          "execution_count": 74
        },
        {
          "output_type": "display_data",
          "data": {
            "text/plain": [
              "<Figure size 1080x1080 with 1 Axes>"
            ],
            "image/png": "[encoded data removed]"
          },
          "metadata": {
            "needs_background": "light"
          }
        }
      ]
    },
    {
      "cell_type": "code",
      "source": [
        "df_clean['total_amount'] = df_clean['total_amount'].str.replace('$', '', regex = True)\n",
        "df_clean['total_amount'] = df_clean['total_amount'].str.replace(',', '', regex = True)"
      ],
      "metadata": {
        "id": "IpXuuSMZjKFR"
      },
      "execution_count": 68,
      "outputs": []
    },
    {
      "cell_type": "code",
      "source": [
        "df_clean['total_amount'].astype('float64')"
      ],
      "metadata": {
        "colab": {
          "base_uri": "https://localhost:8080/"
        },
        "id": "khOvg7xnkBJw",
        "outputId": "21804461-deee-48de-b271-1211e317bde1"
      },
      "execution_count": 69,
      "outputs": [
        {
          "output_type": "execute_result",
          "data": {
            "text/plain": [
              "0         5.97\n",
              "1       171.96\n",
              "2        19.95\n",
              "3        15.92\n",
              "4        27.93\n",
              "         ...  \n",
              "9564    249.44\n",
              "9565    749.99\n",
              "9566    329.99\n",
              "9567     31.18\n",
              "9568     77.95\n",
              "Name: total_amount, Length: 9569, dtype: float64"
            ]
          },
          "metadata": {},
          "execution_count": 69
        }
      ]
    },
    {
      "cell_type": "code",
      "source": [],
      "metadata": {
        "id": "byGCi-kKmNeG"
      },
      "execution_count": null,
      "outputs": []
    }
  ]
}