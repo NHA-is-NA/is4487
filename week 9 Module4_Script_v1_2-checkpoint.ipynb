{
 "cells": [
  {
   "cell_type": "markdown",
   "metadata": {
    "id": "p_Yu45OYdj3Y"
   },
   "source": [
    "# IS 4487 Module 4 Script\n",
    "\n",
    "## Objectives\n",
    "\n",
    "*   Deal with nulls\n",
    "*   Standardize/transform attributes\n",
    "*   Convert attributes to factors (categories)\n",
    "*   Encode attributes"
   ]
  },
  {
   "cell_type": "markdown",
   "metadata": {
    "id": "UE93RwXhgiJS"
   },
   "source": [
    "##Load Libraries\n",
    "\n",
    "In this class we will be using \n",
    "- Pandas\n",
    "- Scikitlearn\n",
    "- Matplotlib\n"
   ]
  },
  {
   "cell_type": "code",
   "execution_count": 6,
   "metadata": {
    "id": "JYRZY5n0gfNe"
   },
   "outputs": [],
   "source": [
    "import pandas as pd\n",
    "import matplotlib.pyplot as plt\n",
    "import numpy as np"
   ]
  },
  {
   "cell_type": "markdown",
   "metadata": {
    "id": "bREaXo8jfu-O"
   },
   "source": [
    "## Getting data into Pandas\n",
    "\n",
    "In this case we will load data from the statsmodels.org library\n",
    "\n",
    "See the Canvas assignments and lectures for a description of the Megatelco data\n",
    "\n",
    "**Note:** you will need to enter a code supplied by Google in the next step. \n"
   ]
  },
  {
   "cell_type": "code",
   "execution_count": 9,
   "metadata": {
    "colab": {
     "base_uri": "https://localhost:8080/"
    },
    "id": "6_FwprxVgR0e",
    "outputId": "8cded8f3-c80b-44e8-fa2a-bdb15ff8dd00"
   },
   "outputs": [],
   "source": [
    "df = pd.read_csv (r'C:\\Users\\mango\\Downloads\\megatelco.csv')"
   ]
  },
  {
   "cell_type": "code",
   "execution_count": 10,
   "metadata": {
    "colab": {
     "base_uri": "https://localhost:8080/",
     "height": 339
    },
    "id": "gSvao0dlhlNn",
    "outputId": "da014472-d58e-4f5f-9e38-bc0be80cd77a"
   },
   "outputs": [
    {
     "data": {
      "text/html": [
       "<div>\n",
       "<style scoped>\n",
       "    .dataframe tbody tr th:only-of-type {\n",
       "        vertical-align: middle;\n",
       "    }\n",
       "\n",
       "    .dataframe tbody tr th {\n",
       "        vertical-align: top;\n",
       "    }\n",
       "\n",
       "    .dataframe thead th {\n",
       "        text-align: right;\n",
       "    }\n",
       "</style>\n",
       "<table border=\"1\" class=\"dataframe\">\n",
       "  <thead>\n",
       "    <tr style=\"text-align: right;\">\n",
       "      <th></th>\n",
       "      <th>college</th>\n",
       "      <th>income</th>\n",
       "      <th>overage</th>\n",
       "      <th>leftover</th>\n",
       "      <th>house</th>\n",
       "      <th>handset_price</th>\n",
       "      <th>over_15mins_calls_per_month</th>\n",
       "      <th>average_call_duration</th>\n",
       "      <th>reported_satisfaction</th>\n",
       "      <th>reported_usage_level</th>\n",
       "      <th>considering_change_of_plan</th>\n",
       "      <th>leave</th>\n",
       "      <th>id</th>\n",
       "    </tr>\n",
       "  </thead>\n",
       "  <tbody>\n",
       "    <tr>\n",
       "      <th>0</th>\n",
       "      <td>one</td>\n",
       "      <td>23859</td>\n",
       "      <td>70</td>\n",
       "      <td>0</td>\n",
       "      <td>519105</td>\n",
       "      <td>154</td>\n",
       "      <td>5.0</td>\n",
       "      <td>8</td>\n",
       "      <td>low</td>\n",
       "      <td>low</td>\n",
       "      <td>yes</td>\n",
       "      <td>LEAVE</td>\n",
       "      <td>8183</td>\n",
       "    </tr>\n",
       "    <tr>\n",
       "      <th>1</th>\n",
       "      <td>zero</td>\n",
       "      <td>72466</td>\n",
       "      <td>67</td>\n",
       "      <td>16</td>\n",
       "      <td>271182</td>\n",
       "      <td>262</td>\n",
       "      <td>5.0</td>\n",
       "      <td>5</td>\n",
       "      <td>low</td>\n",
       "      <td>low</td>\n",
       "      <td>yes</td>\n",
       "      <td>LEAVE</td>\n",
       "      <td>12501</td>\n",
       "    </tr>\n",
       "    <tr>\n",
       "      <th>2</th>\n",
       "      <td>zero</td>\n",
       "      <td>30883</td>\n",
       "      <td>60</td>\n",
       "      <td>0</td>\n",
       "      <td>647281</td>\n",
       "      <td>211</td>\n",
       "      <td>3.0</td>\n",
       "      <td>8</td>\n",
       "      <td>low</td>\n",
       "      <td>low</td>\n",
       "      <td>yes</td>\n",
       "      <td>STAY</td>\n",
       "      <td>7425</td>\n",
       "    </tr>\n",
       "    <tr>\n",
       "      <th>3</th>\n",
       "      <td>one</td>\n",
       "      <td>44512</td>\n",
       "      <td>0</td>\n",
       "      <td>22</td>\n",
       "      <td>754958</td>\n",
       "      <td>232</td>\n",
       "      <td>0.0</td>\n",
       "      <td>5</td>\n",
       "      <td>low</td>\n",
       "      <td>low</td>\n",
       "      <td>no</td>\n",
       "      <td>LEAVE</td>\n",
       "      <td>13488</td>\n",
       "    </tr>\n",
       "    <tr>\n",
       "      <th>4</th>\n",
       "      <td>zero</td>\n",
       "      <td>70535</td>\n",
       "      <td>0</td>\n",
       "      <td>0</td>\n",
       "      <td>653421</td>\n",
       "      <td>310</td>\n",
       "      <td>0.0</td>\n",
       "      <td>14</td>\n",
       "      <td>low</td>\n",
       "      <td>low</td>\n",
       "      <td>yes</td>\n",
       "      <td>STAY</td>\n",
       "      <td>11389</td>\n",
       "    </tr>\n",
       "  </tbody>\n",
       "</table>\n",
       "</div>"
      ],
      "text/plain": [
       "  college  income  overage  leftover   house  handset_price  \\\n",
       "0     one   23859       70         0  519105            154   \n",
       "1    zero   72466       67        16  271182            262   \n",
       "2    zero   30883       60         0  647281            211   \n",
       "3     one   44512        0        22  754958            232   \n",
       "4    zero   70535        0         0  653421            310   \n",
       "\n",
       "   over_15mins_calls_per_month  average_call_duration reported_satisfaction  \\\n",
       "0                          5.0                      8                   low   \n",
       "1                          5.0                      5                   low   \n",
       "2                          3.0                      8                   low   \n",
       "3                          0.0                      5                   low   \n",
       "4                          0.0                     14                   low   \n",
       "\n",
       "  reported_usage_level considering_change_of_plan  leave     id  \n",
       "0                  low                        yes  LEAVE   8183  \n",
       "1                  low                        yes  LEAVE  12501  \n",
       "2                  low                        yes   STAY   7425  \n",
       "3                  low                         no  LEAVE  13488  \n",
       "4                  low                        yes   STAY  11389  "
      ]
     },
     "execution_count": 10,
     "metadata": {},
     "output_type": "execute_result"
    }
   ],
   "source": [
    "#look at the top rows\n",
    "df.head() "
   ]
  },
  {
   "cell_type": "code",
   "execution_count": 11,
   "metadata": {
    "colab": {
     "base_uri": "https://localhost:8080/"
    },
    "id": "AK7y336xJ3-6",
    "outputId": "3411b77d-7de4-4211-f779-4a8f9eba73a0"
   },
   "outputs": [
    {
     "name": "stdout",
     "output_type": "stream",
     "text": [
      "<class 'pandas.core.frame.DataFrame'>\n",
      "RangeIndex: 5000 entries, 0 to 4999\n",
      "Data columns (total 13 columns):\n",
      " #   Column                       Non-Null Count  Dtype  \n",
      "---  ------                       --------------  -----  \n",
      " 0   college                      5000 non-null   object \n",
      " 1   income                       5000 non-null   int64  \n",
      " 2   overage                      5000 non-null   int64  \n",
      " 3   leftover                     5000 non-null   int64  \n",
      " 4   house                        5000 non-null   int64  \n",
      " 5   handset_price                5000 non-null   int64  \n",
      " 6   over_15mins_calls_per_month  4997 non-null   float64\n",
      " 7   average_call_duration        5000 non-null   int64  \n",
      " 8   reported_satisfaction        5000 non-null   object \n",
      " 9   reported_usage_level         5000 non-null   object \n",
      " 10  considering_change_of_plan   5000 non-null   object \n",
      " 11  leave                        5000 non-null   object \n",
      " 12  id                           5000 non-null   int64  \n",
      "dtypes: float64(1), int64(7), object(5)\n",
      "memory usage: 507.9+ KB\n"
     ]
    }
   ],
   "source": [
    "#look at the datatypes\n",
    "df.info()"
   ]
  },
  {
   "cell_type": "code",
   "execution_count": 12,
   "metadata": {
    "colab": {
     "base_uri": "https://localhost:8080/",
     "height": 300
    },
    "id": "udYgkb6I3SJo",
    "outputId": "196cdca5-9e65-4b36-ccde-e6b08e528651"
   },
   "outputs": [
    {
     "data": {
      "text/html": [
       "<div>\n",
       "<style scoped>\n",
       "    .dataframe tbody tr th:only-of-type {\n",
       "        vertical-align: middle;\n",
       "    }\n",
       "\n",
       "    .dataframe tbody tr th {\n",
       "        vertical-align: top;\n",
       "    }\n",
       "\n",
       "    .dataframe thead th {\n",
       "        text-align: right;\n",
       "    }\n",
       "</style>\n",
       "<table border=\"1\" class=\"dataframe\">\n",
       "  <thead>\n",
       "    <tr style=\"text-align: right;\">\n",
       "      <th></th>\n",
       "      <th>income</th>\n",
       "      <th>overage</th>\n",
       "      <th>leftover</th>\n",
       "      <th>house</th>\n",
       "      <th>handset_price</th>\n",
       "      <th>over_15mins_calls_per_month</th>\n",
       "      <th>average_call_duration</th>\n",
       "      <th>id</th>\n",
       "    </tr>\n",
       "  </thead>\n",
       "  <tbody>\n",
       "    <tr>\n",
       "      <th>count</th>\n",
       "      <td>5000.000000</td>\n",
       "      <td>5000.000000</td>\n",
       "      <td>5000.000000</td>\n",
       "      <td>5000.000000</td>\n",
       "      <td>5.000000e+03</td>\n",
       "      <td>4997.000000</td>\n",
       "      <td>5000.000000</td>\n",
       "      <td>5000.000000</td>\n",
       "    </tr>\n",
       "    <tr>\n",
       "      <th>mean</th>\n",
       "      <td>79912.948400</td>\n",
       "      <td>85.119200</td>\n",
       "      <td>24.243600</td>\n",
       "      <td>493656.326600</td>\n",
       "      <td>7.876236e+02</td>\n",
       "      <td>7.744647</td>\n",
       "      <td>5.958800</td>\n",
       "      <td>10036.639400</td>\n",
       "    </tr>\n",
       "    <tr>\n",
       "      <th>std</th>\n",
       "      <td>41703.042384</td>\n",
       "      <td>85.655622</td>\n",
       "      <td>26.847496</td>\n",
       "      <td>254287.193865</td>\n",
       "      <td>2.828291e+04</td>\n",
       "      <td>8.806070</td>\n",
       "      <td>4.390417</td>\n",
       "      <td>5813.620304</td>\n",
       "    </tr>\n",
       "    <tr>\n",
       "      <th>min</th>\n",
       "      <td>-28811.000000</td>\n",
       "      <td>0.000000</td>\n",
       "      <td>0.000000</td>\n",
       "      <td>-796132.000000</td>\n",
       "      <td>1.300000e+02</td>\n",
       "      <td>0.000000</td>\n",
       "      <td>1.000000</td>\n",
       "      <td>2.000000</td>\n",
       "    </tr>\n",
       "    <tr>\n",
       "      <th>25%</th>\n",
       "      <td>41592.500000</td>\n",
       "      <td>0.000000</td>\n",
       "      <td>0.000000</td>\n",
       "      <td>260586.500000</td>\n",
       "      <td>2.190000e+02</td>\n",
       "      <td>1.000000</td>\n",
       "      <td>2.000000</td>\n",
       "      <td>4950.500000</td>\n",
       "    </tr>\n",
       "    <tr>\n",
       "      <th>50%</th>\n",
       "      <td>75041.500000</td>\n",
       "      <td>59.000000</td>\n",
       "      <td>15.000000</td>\n",
       "      <td>451865.500000</td>\n",
       "      <td>3.220000e+02</td>\n",
       "      <td>4.000000</td>\n",
       "      <td>5.000000</td>\n",
       "      <td>10126.000000</td>\n",
       "    </tr>\n",
       "    <tr>\n",
       "      <th>75%</th>\n",
       "      <td>115475.000000</td>\n",
       "      <td>177.000000</td>\n",
       "      <td>42.000000</td>\n",
       "      <td>701608.750000</td>\n",
       "      <td>5.280000e+02</td>\n",
       "      <td>14.000000</td>\n",
       "      <td>9.000000</td>\n",
       "      <td>15085.250000</td>\n",
       "    </tr>\n",
       "    <tr>\n",
       "      <th>max</th>\n",
       "      <td>159938.000000</td>\n",
       "      <td>335.000000</td>\n",
       "      <td>89.000000</td>\n",
       "      <td>1000000.000000</td>\n",
       "      <td>2.000234e+06</td>\n",
       "      <td>29.000000</td>\n",
       "      <td>15.000000</td>\n",
       "      <td>20000.000000</td>\n",
       "    </tr>\n",
       "  </tbody>\n",
       "</table>\n",
       "</div>"
      ],
      "text/plain": [
       "              income      overage     leftover           house  handset_price  \\\n",
       "count    5000.000000  5000.000000  5000.000000     5000.000000   5.000000e+03   \n",
       "mean    79912.948400    85.119200    24.243600   493656.326600   7.876236e+02   \n",
       "std     41703.042384    85.655622    26.847496   254287.193865   2.828291e+04   \n",
       "min    -28811.000000     0.000000     0.000000  -796132.000000   1.300000e+02   \n",
       "25%     41592.500000     0.000000     0.000000   260586.500000   2.190000e+02   \n",
       "50%     75041.500000    59.000000    15.000000   451865.500000   3.220000e+02   \n",
       "75%    115475.000000   177.000000    42.000000   701608.750000   5.280000e+02   \n",
       "max    159938.000000   335.000000    89.000000  1000000.000000   2.000234e+06   \n",
       "\n",
       "       over_15mins_calls_per_month  average_call_duration            id  \n",
       "count                  4997.000000            5000.000000   5000.000000  \n",
       "mean                      7.744647               5.958800  10036.639400  \n",
       "std                       8.806070               4.390417   5813.620304  \n",
       "min                       0.000000               1.000000      2.000000  \n",
       "25%                       1.000000               2.000000   4950.500000  \n",
       "50%                       4.000000               5.000000  10126.000000  \n",
       "75%                      14.000000               9.000000  15085.250000  \n",
       "max                      29.000000              15.000000  20000.000000  "
      ]
     },
     "execution_count": 12,
     "metadata": {},
     "output_type": "execute_result"
    }
   ],
   "source": [
    "#describe the data before cleaning it\n",
    "df.describe()"
   ]
  },
  {
   "cell_type": "code",
   "execution_count": 13,
   "metadata": {
    "id": "vcO37fVnbP_e"
   },
   "outputs": [],
   "source": [
    "df_clean = df"
   ]
  },
  {
   "cell_type": "code",
   "execution_count": 27,
   "metadata": {
    "colab": {
     "base_uri": "https://localhost:8080/"
    },
    "id": "MXNgdI2AbaEI",
    "outputId": "c4b697ef-45dd-47e5-8b1c-9c6f13428dd3"
   },
   "outputs": [
    {
     "name": "stdout",
     "output_type": "stream",
     "text": [
      "<class 'pandas.core.frame.DataFrame'>\n",
      "RangeIndex: 5000 entries, 0 to 4999\n",
      "Data columns (total 14 columns):\n",
      " #   Column                       Non-Null Count  Dtype  \n",
      "---  ------                       --------------  -----  \n",
      " 0   college                      5000 non-null   object \n",
      " 1   income                       5000 non-null   int64  \n",
      " 2   overage                      5000 non-null   int64  \n",
      " 3   leftover                     5000 non-null   int64  \n",
      " 4   house                        5000 non-null   int64  \n",
      " 5   handset_price                5000 non-null   int64  \n",
      " 6   over_15mins_calls_per_month  4997 non-null   float64\n",
      " 7   average_call_duration        5000 non-null   int64  \n",
      " 8   reported_satisfaction        5000 non-null   object \n",
      " 9   reported_usage_level         5000 non-null   object \n",
      " 10  considering_change_of_plan   5000 non-null   object \n",
      " 11  leave                        5000 non-null   object \n",
      " 12  id                           5000 non-null   int64  \n",
      " 13  income_level                 5000 non-null   int64  \n",
      "dtypes: float64(1), int64(8), object(5)\n",
      "memory usage: 547.0+ KB\n"
     ]
    }
   ],
   "source": [
    "df_clean.info()"
   ]
  },
  {
   "cell_type": "code",
   "execution_count": 34,
   "metadata": {},
   "outputs": [
    {
     "data": {
      "text/plain": [
       "159938"
      ]
     },
     "execution_count": 34,
     "metadata": {},
     "output_type": "execute_result"
    }
   ],
   "source": [
    "df_clean['income'].max()"
   ]
  },
  {
   "cell_type": "code",
   "execution_count": 35,
   "metadata": {},
   "outputs": [],
   "source": [
    "df_clean.loc[(df_clean['income']>=0) & (df_clean['income'] <= 50000), 'income_level'] = 1 \n",
    "df_clean.loc[(df_clean['income']>=50001) & (df_clean['income'] <= 100000), 'income_level'] = 2 \n",
    "df_clean.loc[(df_clean['income']>=100001) & (df_clean['income'] <= 150000), 'income_level'] = 3\n",
    "df_clean.loc[(df_clean['income']>=150001) & (df_clean['income'] <= 200000), 'income_level'] = 4"
   ]
  },
  {
   "cell_type": "code",
   "execution_count": 36,
   "metadata": {},
   "outputs": [
    {
     "data": {
      "text/plain": [
       "0       1\n",
       "1       2\n",
       "2       1\n",
       "3       1\n",
       "4       2\n",
       "       ..\n",
       "4995    2\n",
       "4996    1\n",
       "4997    2\n",
       "4998    2\n",
       "4999    3\n",
       "Name: income_level, Length: 5000, dtype: int64"
      ]
     },
     "execution_count": 36,
     "metadata": {},
     "output_type": "execute_result"
    }
   ],
   "source": [
    "df_clean['income_level']"
   ]
  },
  {
   "cell_type": "code",
   "execution_count": null,
   "metadata": {},
   "outputs": [],
   "source": [
    "# Create a new variable called \"Satisfaction_Level\".\n",
    "# Use the reported_satisfaction variable to put customers into groups of High, Medium, Low.  \n",
    "# Make this a categorical variable. "
   ]
  },
  {
   "cell_type": "code",
   "execution_count": 50,
   "metadata": {},
   "outputs": [
    {
     "data": {
      "text/plain": [
       "low     3004\n",
       "high    1530\n",
       "avg      466\n",
       "Name: reported_satisfaction, dtype: int64"
      ]
     },
     "execution_count": 50,
     "metadata": {},
     "output_type": "execute_result"
    }
   ],
   "source": [
    "df_clean['reported_satisfaction'].value_counts()"
   ]
  },
  {
   "cell_type": "code",
   "execution_count": 45,
   "metadata": {},
   "outputs": [],
   "source": [
    "df_clean['satisfaction_level'] = pd.DataFrame(['Low', 'Medium', 'High'], dtype = 'category')"
   ]
  },
  {
   "cell_type": "code",
   "execution_count": 48,
   "metadata": {},
   "outputs": [],
   "source": [
    "df_clean.loc[df_clean['reported_satisfaction'] == 'low', 'satisfaction_level'] = 'Low'\n",
    "df_clean.loc[df_clean['reported_satisfaction'] == 'avg', 'satisfaction_level'] = 'Medium'\n",
    "df_clean.loc[df_clean['reported_satisfaction'] == 'high', 'satisfaction_level'] = 'High'"
   ]
  },
  {
   "cell_type": "code",
   "execution_count": 49,
   "metadata": {},
   "outputs": [
    {
     "data": {
      "text/plain": [
       "0        Low\n",
       "1        Low\n",
       "2        Low\n",
       "3        Low\n",
       "4        Low\n",
       "        ... \n",
       "4995    High\n",
       "4996    High\n",
       "4997     Low\n",
       "4998    High\n",
       "4999    High\n",
       "Name: satisfaction_level, Length: 5000, dtype: category\n",
       "Categories (3, object): ['High', 'Low', 'Medium']"
      ]
     },
     "execution_count": 49,
     "metadata": {},
     "output_type": "execute_result"
    }
   ],
   "source": [
    "df_clean['satisfaction_level']"
   ]
  },
  {
   "cell_type": "code",
   "execution_count": 53,
   "metadata": {},
   "outputs": [
    {
     "data": {
      "text/plain": [
       "STAY     2527\n",
       "LEAVE    2473\n",
       "Name: leave, dtype: int64"
      ]
     },
     "execution_count": 53,
     "metadata": {},
     "output_type": "execute_result"
    }
   ],
   "source": [
    "df_clean['leave'].value_counts()"
   ]
  },
  {
   "cell_type": "code",
   "execution_count": 62,
   "metadata": {},
   "outputs": [
    {
     "data": {
      "text/plain": [
       "<AxesSubplot: xlabel='income_level'>"
      ]
     },
     "execution_count": 62,
     "metadata": {},
     "output_type": "execute_result"
    },
    {
     "data": {
      "image/png": "[encoded data removed]",
      "text/plain": [
       "<Figure size 640x480 with 1 Axes>"
      ]
     },
     "metadata": {},
     "output_type": "display_data"
    }
   ],
   "source": [
    "income_vs_leave = df_clean.groupby('income_level')['leave'].count()\n",
    "\n",
    "income_vs_leave.plot(kind = 'bar')"
   ]
  },
  {
   "cell_type": "code",
   "execution_count": 67,
   "metadata": {},
   "outputs": [
    {
     "data": {
      "text/plain": [
       "<AxesSubplot: xlabel='satisfaction_level'>"
      ]
     },
     "execution_count": 67,
     "metadata": {},
     "output_type": "execute_result"
    },
    {
     "data": {
      "image/png": "[encoded data removed]",
      "text/plain": [
       "<Figure size 640x480 with 1 Axes>"
      ]
     },
     "metadata": {},
     "output_type": "display_data"
    }
   ],
   "source": [
    "sat_vs_leave = df_clean.groupby('satisfaction_level')['leave'].count()\n",
    "\n",
    "sat_vs_leave.plot(kind = 'bar')"
   ]
  },
  {
   "cell_type": "code",
   "execution_count": 81,
   "metadata": {
    "id": "byGCi-kKmNeG"
   },
   "outputs": [
    {
     "data": {
      "text/plain": [
       "array([<AxesSubplot: title={'center': 'LEAVE'}>,\n",
       "       <AxesSubplot: title={'center': 'STAY'}>], dtype=object)"
      ]
     },
     "execution_count": 81,
     "metadata": {},
     "output_type": "execute_result"
    },
    {
     "data": {
      "image/png": "[encoded data removed]",
      "text/plain": [
       "<Figure size 640x480 with 2 Axes>"
      ]
     },
     "metadata": {},
     "output_type": "display_data"
    }
   ],
   "source": [
    "df_clean.hist('income_level', by = 'leave', sharex = True, sharey = True)"
   ]
  },
  {
   "cell_type": "code",
   "execution_count": 85,
   "metadata": {},
   "outputs": [
    {
     "data": {
      "text/plain": [
       "array([<AxesSubplot: title={'center': 'LEAVE'}>,\n",
       "       <AxesSubplot: title={'center': 'STAY'}>], dtype=object)"
      ]
     },
     "execution_count": 85,
     "metadata": {},
     "output_type": "execute_result"
    },
    {
     "data": {
      "image/png": "[encoded data removed]",
      "text/plain": [
       "<Figure size 640x480 with 2 Axes>"
      ]
     },
     "metadata": {},
     "output_type": "display_data"
    }
   ],
   "source": [
    "df_clean.hist('satisfaction_level', by = 'leave', sharex = True, sharey = True)"
   ]
  },
  {
   "cell_type": "code",
   "execution_count": null,
   "metadata": {},
   "outputs": [],
   "source": []
  }
 ],
 "metadata": {
  "colab": {
   "provenance": []
  },
  "kernelspec": {
   "display_name": "Python 3 (ipykernel)",
   "language": "python",
   "name": "python3"
  },
  "language_info": {
   "codemirror_mode": {
    "name": "ipython",
    "version": 3
   },
   "file_extension": ".py",
   "mimetype": "text/x-python",
   "name": "python",
   "nbconvert_exporter": "python",
   "pygments_lexer": "ipython3",
   "version": "3.11.0"
  }
 },
 "nbformat": 4,
 "nbformat_minor": 1
}
