{
  "nbformat": 4,
  "nbformat_minor": 0,
  "metadata": {
    "colab": {
      "provenance": []
    },
    "kernelspec": {
      "name": "python3",
      "display_name": "Python 3"
    },
    "language_info": {
      "name": "python"
    }
  },
  "cells": [
    {
      "cell_type": "markdown",
      "metadata": {
        "id": "p_Yu45OYdj3Y"
      },
      "source": [
        "# IS 4487 Module 2 Script\n",
        "\n",
        "## Agenda\n",
        "\n",
        "- Loading installed packages\n",
        "- Inspect data\n",
        "- Explore plot types \n",
        "\n",
        "Make sure you have downloaded tonight's script and data from Canvas."
      ]
    },
    {
      "cell_type": "code",
      "source": [
        "from google.colab import drive\n",
        "drive.mount('/content/drive')"
      ],
      "metadata": {
        "colab": {
          "base_uri": "https://localhost:8080/"
        },
        "id": "XtIBfd5nNOPw",
        "outputId": "75b9f0e6-d199-4a28-8680-aa99298179ae"
      },
      "execution_count": 10,
      "outputs": [
        {
          "output_type": "stream",
          "name": "stdout",
          "text": [
            "Drive already mounted at /content/drive; to attempt to forcibly remount, call drive.mount(\"/content/drive\", force_remount=True).\n"
          ]
        }
      ]
    },
    {
      "cell_type": "code",
      "source": [
        "from google.colab import drive\n",
        "drive.mount('/content/drive')"
      ],
      "metadata": {
        "colab": {
          "base_uri": "https://localhost:8080/"
        },
        "id": "E1vGzvvVOQ2u",
        "outputId": "1b608cd1-4c09-4fb5-f0fa-8c59e5cffcbd"
      },
      "execution_count": 11,
      "outputs": [
        {
          "output_type": "stream",
          "name": "stdout",
          "text": [
            "Drive already mounted at /content/drive; to attempt to forcibly remount, call drive.mount(\"/content/drive\", force_remount=True).\n"
          ]
        }
      ]
    },
    {
      "cell_type": "markdown",
      "metadata": {
        "id": "UE93RwXhgiJS"
      },
      "source": [
        "##Load Libraries\n",
        "\n",
        "In this class we will be using \n",
        "- Pandas\n",
        "- Scikitlearn\n",
        "- Matplotlib\n",
        "\n",
        "We can pull sample data from \n",
        "- statsmodels.api"
      ]
    },
    {
      "cell_type": "code",
      "metadata": {
        "id": "JYRZY5n0gfNe"
      },
      "source": [
        "import pandas as pd\n",
        "import matplotlib as mpl\n",
        "import sklearn as sl"
      ],
      "execution_count": 12,
      "outputs": []
    },
    {
      "cell_type": "markdown",
      "metadata": {
        "id": "bREaXo8jfu-O"
      },
      "source": [
        "## Getting data into Pandas\n",
        "\n",
        "In this case we will load data from the statsmodels.org library\n",
        "\n",
        "See the Canvas assignments and lectures for a description of the Megatelco data\n",
        "\n",
        "**Note:** you will need to enter a code supplied by Google in the next step. \n"
      ]
    },
    {
      "cell_type": "code",
      "metadata": {
        "id": "6_FwprxVgR0e"
      },
      "source": [
        "from google.colab import drive \n",
        "drive.mount('/content/gdrive', force_remount=True)\n",
        "\n",
        "df = pd.read_csv (r'/content/gdrive/MyDrive/Colab Notebooks/retail_dataset.csv')\n",
        "\n",
        "print (df)"
      ],
      "execution_count": null,
      "outputs": []
    },
    {
      "cell_type": "code",
      "metadata": {
        "id": "gSvao0dlhlNn",
        "colab": {
          "base_uri": "https://localhost:8080/",
          "height": 583
        },
        "outputId": "5c243b2c-b32c-4a61-c20d-de935ebe1281"
      },
      "source": [
        "#look at the top rows\n",
        "df.head(10) "
      ],
      "execution_count": 19,
      "outputs": [
        {
          "output_type": "execute_result",
          "data": {
            "text/plain": [
              "   customer_id      customer_name        address_line_1        city  \\\n",
              "0           67      Gordy Matteau   59 Northland Circle  Wilmington   \n",
              "1          201     Cort Paskerful       769 Buell Drive  Huntsville   \n",
              "2           45    Willetta Lumley     41 Ridgeway Alley      Irvine   \n",
              "3          106   Alison Batterton         489 Erie Hill    Richmond   \n",
              "4          357  Martelle Paxeford  451 Manitowish Place    Richmond   \n",
              "5          351      Glenn Reville    3 Springview Drive      Dallas   \n",
              "6          233  Cosette Berkowitz       7619 Susan Lane  South Bend   \n",
              "7          121      Nisse Cunniam         0 Dennis Pass     Lincoln   \n",
              "8          232         Yank Eayrs       8176 Lawn Drive  Washington   \n",
              "9          113   Jamesy Brothwood   0693 Evergreen Pass    Scranton   \n",
              "\n",
              "              state_province  postal_code  order_id  order_date  \\\n",
              "0  DE                             19805.0      1001  2020-01-11   \n",
              "1  AL                             35810.0      1002  2019-11-22   \n",
              "2  CA                             92612.0      1003  2019-09-17   \n",
              "3  VA                             23293.0      1004  2019-12-09   \n",
              "4  VA                             23293.0      1005  2019-06-08   \n",
              "5  TX                             75277.0      1006  2020-02-18   \n",
              "6  IN                             46634.0      1007  2019-10-25   \n",
              "7  NE                             68531.0      1008  2019-11-10   \n",
              "8  DC                             20575.0      1009  2019-09-27   \n",
              "9  PA                             18514.0      1010  2019-09-02   \n",
              "\n",
              "   customer_id.1  order_id.1  product_id  quantity  product_id.1  \\\n",
              "0             67        1001         106       3.0           106   \n",
              "1            201        1002         104       2.0           104   \n",
              "2             45        1003         107       5.0           107   \n",
              "3            106        1004         106       8.0           106   \n",
              "4            357        1005         107       7.0           107   \n",
              "5            351        1006         106       4.0           106   \n",
              "6            233        1007         105       2.0           105   \n",
              "7            121        1008         101       1.0           101   \n",
              "8            232        1009         110       1.0           110   \n",
              "9            113        1010         108       1.0           108   \n",
              "\n",
              "        product_name product_price total_amount order_year_month order_month  \n",
              "0  Great value Juice         $1.99        $5.97          2020-01   January    \n",
              "1               Desk        $85.98      $171.96          2019-11   November   \n",
              "2     Dove deodorant         $3.99       $19.95          2019-09   September  \n",
              "3  Great value Juice         $1.99       $15.92          2019-12   December   \n",
              "4     Dove deodorant         $3.99       $27.93          2019-06   June       \n",
              "5  Great value Juice         $1.99        $7.96          2020-02   February   \n",
              "6       Office Chair        $55.99      $111.98          2019-10   October    \n",
              "7  Dell E5470 Laptop       $485.00      $485.00          2019-11   November   \n",
              "8    Apple iPad Mini       $329.99      $329.99          2019-09   September  \n",
              "9            Printer        $59.99       $59.99          2019-09   September  "
            ],
            "text/html": [
              "\n",
              "  <div id=\"df-fdd53c25-07d1-4500-85cd-f59815a96c8b\">\n",
              "    <div class=\"colab-df-container\">\n",
              "      <div>\n",
              "<style scoped>\n",
              "    .dataframe tbody tr th:only-of-type {\n",
              "        vertical-align: middle;\n",
              "    }\n",
              "\n",
              "    .dataframe tbody tr th {\n",
              "        vertical-align: top;\n",
              "    }\n",
              "\n",
              "    .dataframe thead th {\n",
              "        text-align: right;\n",
              "    }\n",
              "</style>\n",
              "<table border=\"1\" class=\"dataframe\">\n",
              "  <thead>\n",
              "    <tr style=\"text-align: right;\">\n",
              "      <th></th>\n",
              "      <th>customer_id</th>\n",
              "      <th>customer_name</th>\n",
              "      <th>address_line_1</th>\n",
              "      <th>city</th>\n",
              "      <th>state_province</th>\n",
              "      <th>postal_code</th>\n",
              "      <th>order_id</th>\n",
              "      <th>order_date</th>\n",
              "      <th>customer_id.1</th>\n",
              "      <th>order_id.1</th>\n",
              "      <th>product_id</th>\n",
              "      <th>quantity</th>\n",
              "      <th>product_id.1</th>\n",
              "      <th>product_name</th>\n",
              "      <th>product_price</th>\n",
              "      <th>total_amount</th>\n",
              "      <th>order_year_month</th>\n",
              "      <th>order_month</th>\n",
              "    </tr>\n",
              "  </thead>\n",
              "  <tbody>\n",
              "    <tr>\n",
              "      <th>0</th>\n",
              "      <td>67</td>\n",
              "      <td>Gordy Matteau</td>\n",
              "      <td>59 Northland Circle</td>\n",
              "      <td>Wilmington</td>\n",
              "      <td>DE</td>\n",
              "      <td>19805.0</td>\n",
              "      <td>1001</td>\n",
              "      <td>2020-01-11</td>\n",
              "      <td>67</td>\n",
              "      <td>1001</td>\n",
              "      <td>106</td>\n",
              "      <td>3.0</td>\n",
              "      <td>106</td>\n",
              "      <td>Great value Juice</td>\n",
              "      <td>$1.99</td>\n",
              "      <td>$5.97</td>\n",
              "      <td>2020-01</td>\n",
              "      <td>January</td>\n",
              "    </tr>\n",
              "    <tr>\n",
              "      <th>1</th>\n",
              "      <td>201</td>\n",
              "      <td>Cort Paskerful</td>\n",
              "      <td>769 Buell Drive</td>\n",
              "      <td>Huntsville</td>\n",
              "      <td>AL</td>\n",
              "      <td>35810.0</td>\n",
              "      <td>1002</td>\n",
              "      <td>2019-11-22</td>\n",
              "      <td>201</td>\n",
              "      <td>1002</td>\n",
              "      <td>104</td>\n",
              "      <td>2.0</td>\n",
              "      <td>104</td>\n",
              "      <td>Desk</td>\n",
              "      <td>$85.98</td>\n",
              "      <td>$171.96</td>\n",
              "      <td>2019-11</td>\n",
              "      <td>November</td>\n",
              "    </tr>\n",
              "    <tr>\n",
              "      <th>2</th>\n",
              "      <td>45</td>\n",
              "      <td>Willetta Lumley</td>\n",
              "      <td>41 Ridgeway Alley</td>\n",
              "      <td>Irvine</td>\n",
              "      <td>CA</td>\n",
              "      <td>92612.0</td>\n",
              "      <td>1003</td>\n",
              "      <td>2019-09-17</td>\n",
              "      <td>45</td>\n",
              "      <td>1003</td>\n",
              "      <td>107</td>\n",
              "      <td>5.0</td>\n",
              "      <td>107</td>\n",
              "      <td>Dove deodorant</td>\n",
              "      <td>$3.99</td>\n",
              "      <td>$19.95</td>\n",
              "      <td>2019-09</td>\n",
              "      <td>September</td>\n",
              "    </tr>\n",
              "    <tr>\n",
              "      <th>3</th>\n",
              "      <td>106</td>\n",
              "      <td>Alison Batterton</td>\n",
              "      <td>489 Erie Hill</td>\n",
              "      <td>Richmond</td>\n",
              "      <td>VA</td>\n",
              "      <td>23293.0</td>\n",
              "      <td>1004</td>\n",
              "      <td>2019-12-09</td>\n",
              "      <td>106</td>\n",
              "      <td>1004</td>\n",
              "      <td>106</td>\n",
              "      <td>8.0</td>\n",
              "      <td>106</td>\n",
              "      <td>Great value Juice</td>\n",
              "      <td>$1.99</td>\n",
              "      <td>$15.92</td>\n",
              "      <td>2019-12</td>\n",
              "      <td>December</td>\n",
              "    </tr>\n",
              "    <tr>\n",
              "      <th>4</th>\n",
              "      <td>357</td>\n",
              "      <td>Martelle Paxeford</td>\n",
              "      <td>451 Manitowish Place</td>\n",
              "      <td>Richmond</td>\n",
              "      <td>VA</td>\n",
              "      <td>23293.0</td>\n",
              "      <td>1005</td>\n",
              "      <td>2019-06-08</td>\n",
              "      <td>357</td>\n",
              "      <td>1005</td>\n",
              "      <td>107</td>\n",
              "      <td>7.0</td>\n",
              "      <td>107</td>\n",
              "      <td>Dove deodorant</td>\n",
              "      <td>$3.99</td>\n",
              "      <td>$27.93</td>\n",
              "      <td>2019-06</td>\n",
              "      <td>June</td>\n",
              "    </tr>\n",
              "    <tr>\n",
              "      <th>5</th>\n",
              "      <td>351</td>\n",
              "      <td>Glenn Reville</td>\n",
              "      <td>3 Springview Drive</td>\n",
              "      <td>Dallas</td>\n",
              "      <td>TX</td>\n",
              "      <td>75277.0</td>\n",
              "      <td>1006</td>\n",
              "      <td>2020-02-18</td>\n",
              "      <td>351</td>\n",
              "      <td>1006</td>\n",
              "      <td>106</td>\n",
              "      <td>4.0</td>\n",
              "      <td>106</td>\n",
              "      <td>Great value Juice</td>\n",
              "      <td>$1.99</td>\n",
              "      <td>$7.96</td>\n",
              "      <td>2020-02</td>\n",
              "      <td>February</td>\n",
              "    </tr>\n",
              "    <tr>\n",
              "      <th>6</th>\n",
              "      <td>233</td>\n",
              "      <td>Cosette Berkowitz</td>\n",
              "      <td>7619 Susan Lane</td>\n",
              "      <td>South Bend</td>\n",
              "      <td>IN</td>\n",
              "      <td>46634.0</td>\n",
              "      <td>1007</td>\n",
              "      <td>2019-10-25</td>\n",
              "      <td>233</td>\n",
              "      <td>1007</td>\n",
              "      <td>105</td>\n",
              "      <td>2.0</td>\n",
              "      <td>105</td>\n",
              "      <td>Office Chair</td>\n",
              "      <td>$55.99</td>\n",
              "      <td>$111.98</td>\n",
              "      <td>2019-10</td>\n",
              "      <td>October</td>\n",
              "    </tr>\n",
              "    <tr>\n",
              "      <th>7</th>\n",
              "      <td>121</td>\n",
              "      <td>Nisse Cunniam</td>\n",
              "      <td>0 Dennis Pass</td>\n",
              "      <td>Lincoln</td>\n",
              "      <td>NE</td>\n",
              "      <td>68531.0</td>\n",
              "      <td>1008</td>\n",
              "      <td>2019-11-10</td>\n",
              "      <td>121</td>\n",
              "      <td>1008</td>\n",
              "      <td>101</td>\n",
              "      <td>1.0</td>\n",
              "      <td>101</td>\n",
              "      <td>Dell E5470 Laptop</td>\n",
              "      <td>$485.00</td>\n",
              "      <td>$485.00</td>\n",
              "      <td>2019-11</td>\n",
              "      <td>November</td>\n",
              "    </tr>\n",
              "    <tr>\n",
              "      <th>8</th>\n",
              "      <td>232</td>\n",
              "      <td>Yank Eayrs</td>\n",
              "      <td>8176 Lawn Drive</td>\n",
              "      <td>Washington</td>\n",
              "      <td>DC</td>\n",
              "      <td>20575.0</td>\n",
              "      <td>1009</td>\n",
              "      <td>2019-09-27</td>\n",
              "      <td>232</td>\n",
              "      <td>1009</td>\n",
              "      <td>110</td>\n",
              "      <td>1.0</td>\n",
              "      <td>110</td>\n",
              "      <td>Apple iPad Mini</td>\n",
              "      <td>$329.99</td>\n",
              "      <td>$329.99</td>\n",
              "      <td>2019-09</td>\n",
              "      <td>September</td>\n",
              "    </tr>\n",
              "    <tr>\n",
              "      <th>9</th>\n",
              "      <td>113</td>\n",
              "      <td>Jamesy Brothwood</td>\n",
              "      <td>0693 Evergreen Pass</td>\n",
              "      <td>Scranton</td>\n",
              "      <td>PA</td>\n",
              "      <td>18514.0</td>\n",
              "      <td>1010</td>\n",
              "      <td>2019-09-02</td>\n",
              "      <td>113</td>\n",
              "      <td>1010</td>\n",
              "      <td>108</td>\n",
              "      <td>1.0</td>\n",
              "      <td>108</td>\n",
              "      <td>Printer</td>\n",
              "      <td>$59.99</td>\n",
              "      <td>$59.99</td>\n",
              "      <td>2019-09</td>\n",
              "      <td>September</td>\n",
              "    </tr>\n",
              "  </tbody>\n",
              "</table>\n",
              "</div>\n",
              "      <button class=\"colab-df-convert\" onclick=\"convertToInteractive('df-fdd53c25-07d1-4500-85cd-f59815a96c8b')\"\n",
              "              title=\"Convert this dataframe to an interactive table.\"\n",
              "              style=\"display:none;\">\n",
              "        \n",
              "  <svg xmlns=\"http://www.w3.org/2000/svg\" height=\"24px\"viewBox=\"0 0 24 24\"\n",
              "       width=\"24px\">\n",
              "    <path d=\"M0 0h24v24H0V0z\" fill=\"none\"/>\n",
              "    <path d=\"M18.56 5.44l.94 2.06.94-2.06 2.06-.94-2.06-.94-.94-2.06-.94 2.06-2.06.94zm-11 1L8.5 8.5l.94-2.06 2.06-.94-2.06-.94L8.5 2.5l-.94 2.06-2.06.94zm10 10l.94 2.06.94-2.06 2.06-.94-2.06-.94-.94-2.06-.94 2.06-2.06.94z\"/><path d=\"M17.41 7.96l-1.37-1.37c-.4-.4-.92-.59-1.43-.59-.52 0-1.04.2-1.43.59L10.3 9.45l-7.72 7.72c-.78.78-.78 2.05 0 2.83L4 21.41c.39.39.9.59 1.41.59.51 0 1.02-.2 1.41-.59l7.78-7.78 2.81-2.81c.8-.78.8-2.07 0-2.86zM5.41 20L4 18.59l7.72-7.72 1.47 1.35L5.41 20z\"/>\n",
              "  </svg>\n",
              "      </button>\n",
              "      \n",
              "  <style>\n",
              "    .colab-df-container {\n",
              "      display:flex;\n",
              "      flex-wrap:wrap;\n",
              "      gap: 12px;\n",
              "    }\n",
              "\n",
              "    .colab-df-convert {\n",
              "      background-color: #E8F0FE;\n",
              "      border: none;\n",
              "      border-radius: 50%;\n",
              "      cursor: pointer;\n",
              "      display: none;\n",
              "      fill: #1967D2;\n",
              "      height: 32px;\n",
              "      padding: 0 0 0 0;\n",
              "      width: 32px;\n",
              "    }\n",
              "\n",
              "    .colab-df-convert:hover {\n",
              "      background-color: #E2EBFA;\n",
              "      box-shadow: 0px 1px 2px rgba(60, 64, 67, 0.3), 0px 1px 3px 1px rgba(60, 64, 67, 0.15);\n",
              "      fill: #174EA6;\n",
              "    }\n",
              "\n",
              "    [theme=dark] .colab-df-convert {\n",
              "      background-color: #3B4455;\n",
              "      fill: #D2E3FC;\n",
              "    }\n",
              "\n",
              "    [theme=dark] .colab-df-convert:hover {\n",
              "      background-color: #434B5C;\n",
              "      box-shadow: 0px 1px 3px 1px rgba(0, 0, 0, 0.15);\n",
              "      filter: drop-shadow(0px 1px 2px rgba(0, 0, 0, 0.3));\n",
              "      fill: #FFFFFF;\n",
              "    }\n",
              "  </style>\n",
              "\n",
              "      <script>\n",
              "        const buttonEl =\n",
              "          document.querySelector('#df-fdd53c25-07d1-4500-85cd-f59815a96c8b button.colab-df-convert');\n",
              "        buttonEl.style.display =\n",
              "          google.colab.kernel.accessAllowed ? 'block' : 'none';\n",
              "\n",
              "        async function convertToInteractive(key) {\n",
              "          const element = document.querySelector('#df-fdd53c25-07d1-4500-85cd-f59815a96c8b');\n",
              "          const dataTable =\n",
              "            await google.colab.kernel.invokeFunction('convertToInteractive',\n",
              "                                                     [key], {});\n",
              "          if (!dataTable) return;\n",
              "\n",
              "          const docLinkHtml = 'Like what you see? Visit the ' +\n",
              "            '<a target=\"_blank\" href=https://colab.research.google.com/notebooks/data_table.ipynb>data table notebook</a>'\n",
              "            + ' to learn more about interactive tables.';\n",
              "          element.innerHTML = '';\n",
              "          dataTable['output_type'] = 'display_data';\n",
              "          await google.colab.output.renderOutput(dataTable, element);\n",
              "          const docLink = document.createElement('div');\n",
              "          docLink.innerHTML = docLinkHtml;\n",
              "          element.appendChild(docLink);\n",
              "        }\n",
              "      </script>\n",
              "    </div>\n",
              "  </div>\n",
              "  "
            ]
          },
          "metadata": {},
          "execution_count": 19
        }
      ]
    },
    {
      "cell_type": "code",
      "metadata": {
        "id": "Mk01Ip_Ehk5c"
      },
      "source": [
        "#look at last rows\n",
        "df.tail(10) "
      ],
      "execution_count": null,
      "outputs": []
    },
    {
      "cell_type": "code",
      "metadata": {
        "id": "7Hxb10xChiAf",
        "colab": {
          "base_uri": "https://localhost:8080/",
          "height": 344
        },
        "outputId": "c818c9f3-c233-4e28-c1b1-650564eb048a"
      },
      "source": [
        "#get a summary of the dataset\n",
        "df_clean.describe().round(4)"
      ],
      "execution_count": 42,
      "outputs": [
        {
          "output_type": "execute_result",
          "data": {
            "text/plain": [
              "       customer_id  postal_code   order_id  customer_id.1  order_id.1  \\\n",
              "count    9569.0000    9416.0000  9569.0000      9569.0000   9569.0000   \n",
              "mean      282.9110   52225.0071  5107.5395       282.9110   5107.5395   \n",
              "std       199.7639   29619.5444  2043.4494       199.7639   2043.4494   \n",
              "min         1.0000    1105.0000  1001.0000         1.0000   1001.0000   \n",
              "25%       127.0000   27409.0000  3393.0000       127.0000   3393.0000   \n",
              "50%       253.0000   48295.0000  5577.0000       253.0000   5577.0000   \n",
              "75%       376.0000   79923.0000  6829.0000       376.0000   6829.0000   \n",
              "max       800.0000   99812.0000  8147.0000       800.0000   8147.0000   \n",
              "\n",
              "       product_id   quantity  product_id.1  product_price  total_amount  \n",
              "count   9569.0000  9513.0000     9569.0000      9569.0000     9513.0000  \n",
              "mean     106.7366     3.4534      106.7366       289.2627      344.0839  \n",
              "std        3.6948     4.3939        3.6948       340.2841      373.5459  \n",
              "min      101.0000     1.0000      101.0000         1.9900        1.9900  \n",
              "25%      104.0000     1.0000      104.0000         4.9900       55.9900  \n",
              "50%      107.0000     1.0000      107.0000        59.9900      167.9700  \n",
              "75%      110.0000     4.0000      110.0000       485.0000      694.9700  \n",
              "max      114.0000    20.0000      114.0000       988.7200     1977.4400  "
            ],
            "text/html": [
              "\n",
              "  <div id=\"df-30c35770-badc-4e8e-a1ba-67a5db8924b1\">\n",
              "    <div class=\"colab-df-container\">\n",
              "      <div>\n",
              "<style scoped>\n",
              "    .dataframe tbody tr th:only-of-type {\n",
              "        vertical-align: middle;\n",
              "    }\n",
              "\n",
              "    .dataframe tbody tr th {\n",
              "        vertical-align: top;\n",
              "    }\n",
              "\n",
              "    .dataframe thead th {\n",
              "        text-align: right;\n",
              "    }\n",
              "</style>\n",
              "<table border=\"1\" class=\"dataframe\">\n",
              "  <thead>\n",
              "    <tr style=\"text-align: right;\">\n",
              "      <th></th>\n",
              "      <th>customer_id</th>\n",
              "      <th>postal_code</th>\n",
              "      <th>order_id</th>\n",
              "      <th>customer_id.1</th>\n",
              "      <th>order_id.1</th>\n",
              "      <th>product_id</th>\n",
              "      <th>quantity</th>\n",
              "      <th>product_id.1</th>\n",
              "      <th>product_price</th>\n",
              "      <th>total_amount</th>\n",
              "    </tr>\n",
              "  </thead>\n",
              "  <tbody>\n",
              "    <tr>\n",
              "      <th>count</th>\n",
              "      <td>9569.0000</td>\n",
              "      <td>9416.0000</td>\n",
              "      <td>9569.0000</td>\n",
              "      <td>9569.0000</td>\n",
              "      <td>9569.0000</td>\n",
              "      <td>9569.0000</td>\n",
              "      <td>9513.0000</td>\n",
              "      <td>9569.0000</td>\n",
              "      <td>9569.0000</td>\n",
              "      <td>9513.0000</td>\n",
              "    </tr>\n",
              "    <tr>\n",
              "      <th>mean</th>\n",
              "      <td>282.9110</td>\n",
              "      <td>52225.0071</td>\n",
              "      <td>5107.5395</td>\n",
              "      <td>282.9110</td>\n",
              "      <td>5107.5395</td>\n",
              "      <td>106.7366</td>\n",
              "      <td>3.4534</td>\n",
              "      <td>106.7366</td>\n",
              "      <td>289.2627</td>\n",
              "      <td>344.0839</td>\n",
              "    </tr>\n",
              "    <tr>\n",
              "      <th>std</th>\n",
              "      <td>199.7639</td>\n",
              "      <td>29619.5444</td>\n",
              "      <td>2043.4494</td>\n",
              "      <td>199.7639</td>\n",
              "      <td>2043.4494</td>\n",
              "      <td>3.6948</td>\n",
              "      <td>4.3939</td>\n",
              "      <td>3.6948</td>\n",
              "      <td>340.2841</td>\n",
              "      <td>373.5459</td>\n",
              "    </tr>\n",
              "    <tr>\n",
              "      <th>min</th>\n",
              "      <td>1.0000</td>\n",
              "      <td>1105.0000</td>\n",
              "      <td>1001.0000</td>\n",
              "      <td>1.0000</td>\n",
              "      <td>1001.0000</td>\n",
              "      <td>101.0000</td>\n",
              "      <td>1.0000</td>\n",
              "      <td>101.0000</td>\n",
              "      <td>1.9900</td>\n",
              "      <td>1.9900</td>\n",
              "    </tr>\n",
              "    <tr>\n",
              "      <th>25%</th>\n",
              "      <td>127.0000</td>\n",
              "      <td>27409.0000</td>\n",
              "      <td>3393.0000</td>\n",
              "      <td>127.0000</td>\n",
              "      <td>3393.0000</td>\n",
              "      <td>104.0000</td>\n",
              "      <td>1.0000</td>\n",
              "      <td>104.0000</td>\n",
              "      <td>4.9900</td>\n",
              "      <td>55.9900</td>\n",
              "    </tr>\n",
              "    <tr>\n",
              "      <th>50%</th>\n",
              "      <td>253.0000</td>\n",
              "      <td>48295.0000</td>\n",
              "      <td>5577.0000</td>\n",
              "      <td>253.0000</td>\n",
              "      <td>5577.0000</td>\n",
              "      <td>107.0000</td>\n",
              "      <td>1.0000</td>\n",
              "      <td>107.0000</td>\n",
              "      <td>59.9900</td>\n",
              "      <td>167.9700</td>\n",
              "    </tr>\n",
              "    <tr>\n",
              "      <th>75%</th>\n",
              "      <td>376.0000</td>\n",
              "      <td>79923.0000</td>\n",
              "      <td>6829.0000</td>\n",
              "      <td>376.0000</td>\n",
              "      <td>6829.0000</td>\n",
              "      <td>110.0000</td>\n",
              "      <td>4.0000</td>\n",
              "      <td>110.0000</td>\n",
              "      <td>485.0000</td>\n",
              "      <td>694.9700</td>\n",
              "    </tr>\n",
              "    <tr>\n",
              "      <th>max</th>\n",
              "      <td>800.0000</td>\n",
              "      <td>99812.0000</td>\n",
              "      <td>8147.0000</td>\n",
              "      <td>800.0000</td>\n",
              "      <td>8147.0000</td>\n",
              "      <td>114.0000</td>\n",
              "      <td>20.0000</td>\n",
              "      <td>114.0000</td>\n",
              "      <td>988.7200</td>\n",
              "      <td>1977.4400</td>\n",
              "    </tr>\n",
              "  </tbody>\n",
              "</table>\n",
              "</div>\n",
              "      <button class=\"colab-df-convert\" onclick=\"convertToInteractive('df-30c35770-badc-4e8e-a1ba-67a5db8924b1')\"\n",
              "              title=\"Convert this dataframe to an interactive table.\"\n",
              "              style=\"display:none;\">\n",
              "        \n",
              "  <svg xmlns=\"http://www.w3.org/2000/svg\" height=\"24px\"viewBox=\"0 0 24 24\"\n",
              "       width=\"24px\">\n",
              "    <path d=\"M0 0h24v24H0V0z\" fill=\"none\"/>\n",
              "    <path d=\"M18.56 5.44l.94 2.06.94-2.06 2.06-.94-2.06-.94-.94-2.06-.94 2.06-2.06.94zm-11 1L8.5 8.5l.94-2.06 2.06-.94-2.06-.94L8.5 2.5l-.94 2.06-2.06.94zm10 10l.94 2.06.94-2.06 2.06-.94-2.06-.94-.94-2.06-.94 2.06-2.06.94z\"/><path d=\"M17.41 7.96l-1.37-1.37c-.4-.4-.92-.59-1.43-.59-.52 0-1.04.2-1.43.59L10.3 9.45l-7.72 7.72c-.78.78-.78 2.05 0 2.83L4 21.41c.39.39.9.59 1.41.59.51 0 1.02-.2 1.41-.59l7.78-7.78 2.81-2.81c.8-.78.8-2.07 0-2.86zM5.41 20L4 18.59l7.72-7.72 1.47 1.35L5.41 20z\"/>\n",
              "  </svg>\n",
              "      </button>\n",
              "      \n",
              "  <style>\n",
              "    .colab-df-container {\n",
              "      display:flex;\n",
              "      flex-wrap:wrap;\n",
              "      gap: 12px;\n",
              "    }\n",
              "\n",
              "    .colab-df-convert {\n",
              "      background-color: #E8F0FE;\n",
              "      border: none;\n",
              "      border-radius: 50%;\n",
              "      cursor: pointer;\n",
              "      display: none;\n",
              "      fill: #1967D2;\n",
              "      height: 32px;\n",
              "      padding: 0 0 0 0;\n",
              "      width: 32px;\n",
              "    }\n",
              "\n",
              "    .colab-df-convert:hover {\n",
              "      background-color: #E2EBFA;\n",
              "      box-shadow: 0px 1px 2px rgba(60, 64, 67, 0.3), 0px 1px 3px 1px rgba(60, 64, 67, 0.15);\n",
              "      fill: #174EA6;\n",
              "    }\n",
              "\n",
              "    [theme=dark] .colab-df-convert {\n",
              "      background-color: #3B4455;\n",
              "      fill: #D2E3FC;\n",
              "    }\n",
              "\n",
              "    [theme=dark] .colab-df-convert:hover {\n",
              "      background-color: #434B5C;\n",
              "      box-shadow: 0px 1px 3px 1px rgba(0, 0, 0, 0.15);\n",
              "      filter: drop-shadow(0px 1px 2px rgba(0, 0, 0, 0.3));\n",
              "      fill: #FFFFFF;\n",
              "    }\n",
              "  </style>\n",
              "\n",
              "      <script>\n",
              "        const buttonEl =\n",
              "          document.querySelector('#df-30c35770-badc-4e8e-a1ba-67a5db8924b1 button.colab-df-convert');\n",
              "        buttonEl.style.display =\n",
              "          google.colab.kernel.accessAllowed ? 'block' : 'none';\n",
              "\n",
              "        async function convertToInteractive(key) {\n",
              "          const element = document.querySelector('#df-30c35770-badc-4e8e-a1ba-67a5db8924b1');\n",
              "          const dataTable =\n",
              "            await google.colab.kernel.invokeFunction('convertToInteractive',\n",
              "                                                     [key], {});\n",
              "          if (!dataTable) return;\n",
              "\n",
              "          const docLinkHtml = 'Like what you see? Visit the ' +\n",
              "            '<a target=\"_blank\" href=https://colab.research.google.com/notebooks/data_table.ipynb>data table notebook</a>'\n",
              "            + ' to learn more about interactive tables.';\n",
              "          element.innerHTML = '';\n",
              "          dataTable['output_type'] = 'display_data';\n",
              "          await google.colab.output.renderOutput(dataTable, element);\n",
              "          const docLink = document.createElement('div');\n",
              "          docLink.innerHTML = docLinkHtml;\n",
              "          element.appendChild(docLink);\n",
              "        }\n",
              "      </script>\n",
              "    </div>\n",
              "  </div>\n",
              "  "
            ]
          },
          "metadata": {},
          "execution_count": 42
        }
      ]
    },
    {
      "cell_type": "code",
      "metadata": {
        "id": "AK7y336xJ3-6"
      },
      "source": [
        "#look at the datatypes\n",
        "df_clean = df\n",
        "df_clean.info()"
      ],
      "execution_count": null,
      "outputs": []
    },
    {
      "cell_type": "code",
      "source": [
        "#Convert the Total_Amount into a number (not a string)\n",
        "#Remove rows with empty (NULL) values\n",
        "#Locate outliers in any of the variables.   Filter them out if they are mistakes; keep them if they are exceptional cases. "
      ],
      "metadata": {
        "id": "kSMNCqI7P1T_"
      },
      "execution_count": null,
      "outputs": []
    },
    {
      "cell_type": "code",
      "source": [
        "#Convert the Total_Amount into a number (not a string)\n",
        "df_clean['total_amount'] = df_clean['total_amount'].str.replace('$', '')\n",
        "df_clean['total_amount'] = df_clean['total_amount'].str.replace(',', '')\n",
        "df_clean['total_amount'] = df_clean['total_amount'].astype(float)\n",
        "df_clean['total_amount'].head()"
      ],
      "metadata": {
        "id": "pf44yl_BP_Rk"
      },
      "execution_count": null,
      "outputs": []
    },
    {
      "cell_type": "code",
      "source": [
        "df_clean['product_price'] = df_clean['product_price'].str.replace('$', '')\n",
        "df_clean['product_price'] = df_clean['product_price'].str.replace(',', '')\n",
        "df_clean['product_price'] = df_clean['product_price'].astype(float)\n",
        "df_clean['product_price'].head()"
      ],
      "metadata": {
        "colab": {
          "base_uri": "https://localhost:8080/"
        },
        "id": "BKtn4_xQUsQG",
        "outputId": "f9c31f7a-a68a-4285-d702-454342c230e6"
      },
      "execution_count": 41,
      "outputs": [
        {
          "output_type": "stream",
          "name": "stderr",
          "text": [
            "<ipython-input-41-191c7dd7dc01>:1: FutureWarning: The default value of regex will change from True to False in a future version. In addition, single character regular expressions will *not* be treated as literal strings when regex=True.\n",
            "  df_clean['product_price'] = df_clean['product_price'].str.replace('$', '')\n"
          ]
        },
        {
          "output_type": "execute_result",
          "data": {
            "text/plain": [
              "0     1.99\n",
              "1    85.98\n",
              "2     3.99\n",
              "3     1.99\n",
              "4     3.99\n",
              "Name: product_price, dtype: float64"
            ]
          },
          "metadata": {},
          "execution_count": 41
        }
      ]
    },
    {
      "cell_type": "code",
      "source": [
        "#Remove rows with empty (NULL) values\n",
        "df_clean.dropna(subset = ['state_province','order_date', 'quantity', 'product_price', 'total_amount'])"
      ],
      "metadata": {
        "id": "0yB3CPvnTEi6"
      },
      "execution_count": null,
      "outputs": []
    },
    {
      "cell_type": "code",
      "source": [
        "#Locate outliers in any of the variables.   Filter them out if they are mistakes; keep them if they are exceptional cases. \n",
        "df_clean.groupby('state_province')['total_amount'].count()\n"
      ],
      "metadata": {
        "colab": {
          "base_uri": "https://localhost:8080/"
        },
        "id": "U1S5kGxZW8wq",
        "outputId": "f1613b4e-fbd9-4189-a610-6a3dd545ef9b"
      },
      "execution_count": 43,
      "outputs": [
        {
          "output_type": "execute_result",
          "data": {
            "text/plain": [
              "state_province\n",
              "AK                            39\n",
              "AL                           166\n",
              "AR                            22\n",
              "AZ                           128\n",
              "Alabama                       45\n",
              "                            ... \n",
              "WY                            16\n",
              "Washington                    68\n",
              "West Virginia                 22\n",
              "Wisconsin                     26\n",
              "Wyoming                        4\n",
              "Name: total_amount, Length: 92, dtype: int64"
            ]
          },
          "metadata": {},
          "execution_count": 43
        }
      ]
    },
    {
      "cell_type": "markdown",
      "metadata": {
        "id": "BtxOWvFlKzgE"
      },
      "source": [
        "## Clean up the data\n",
        "Did you notice anything unusual about the \"house\" amounts? \n",
        "\n",
        "How about the handset price and income?"
      ]
    },
    {
      "cell_type": "code",
      "metadata": {
        "id": "7KXLvMcBK8Za"
      },
      "source": [
        "df_clean = df[(df['house'] > 0) & (df['income'] > 0) & (df['handset_price'] < 1000)]\n",
        "df_clean.describe()"
      ],
      "execution_count": null,
      "outputs": []
    },
    {
      "cell_type": "markdown",
      "metadata": {
        "id": "AuB0G9gJt7gn"
      },
      "source": [
        "# Add Derived Attribute\n",
        "\n",
        "Add a column with the income in K (thousands)"
      ]
    },
    {
      "cell_type": "code",
      "metadata": {
        "id": "inCqTVMDt6ex"
      },
      "source": [
        "df_clean['income_k'] = (df_clean['income']/1000).round(2)\n",
        "df_clean.head()"
      ],
      "execution_count": null,
      "outputs": []
    },
    {
      "cell_type": "markdown",
      "metadata": {
        "id": "uathUi6xfDPf"
      },
      "source": [
        "## Slice the data  \n",
        " What is average house price at the two levels of leave?\n",
        "\n",
        " Conclusion?  Stayers have substantially more expensive homes."
      ]
    },
    {
      "cell_type": "code",
      "metadata": {
        "id": "bC93rEgNfFNh"
      },
      "source": [
        "df_clean[['house','leave']].groupby('leave').mean().round(2) "
      ],
      "execution_count": null,
      "outputs": []
    }
  ]
}